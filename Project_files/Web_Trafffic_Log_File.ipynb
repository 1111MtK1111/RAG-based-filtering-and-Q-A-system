{
  "nbformat": 4,
  "nbformat_minor": 0,
  "metadata": {
    "colab": {
      "provenance": []
    },
    "kernelspec": {
      "name": "python3",
      "display_name": "Python 3"
    },
    "language_info": {
      "name": "python"
    }
  },
  "cells": [
    {
      "cell_type": "code",
      "execution_count": null,
      "metadata": {
        "id": "mzTQ3lRCO1UW"
      },
      "outputs": [],
      "source": [
        "import random\n",
        "import pandas as pd\n",
        "import datetime\n",
        "\n",
        "# Function to generate random IP addresses\n",
        "def generate_ip():\n",
        "    return \".\".join(str(random.randint(0, 255)) for _ in range(4))\n",
        "\n",
        "# Function to generate random timestamps within a specific date range\n",
        "def generate_timestamp(start, end):\n",
        "    return start + (end - start) * random.random()\n",
        "\n",
        "# Function to generate random HTTP methods\n",
        "def generate_http_method():\n",
        "    return random.choice([\"GET\", \"POST\", \"DELETE\", \"PUT\"])\n",
        "\n",
        "# Function to generate random URL paths\n",
        "def generate_url_path():\n",
        "    categories = [\"shirts\", \"pants\", \"jackets\", \"shoes\", \"accessories\"]\n",
        "    items = {\n",
        "        \"shirts\": [\"tshirt\", \"poloshirt\", \"dressshirt\"],\n",
        "        \"pants\": [\"jeans\", \"shorts\", \"trousers\", \"bootcut\"],\n",
        "        \"jackets\": [\"leather\", \"denim\", \"parka\"],\n",
        "        \"shoes\": [\"sneakers\", \"boots\", \"sandals\"],\n",
        "        \"accessories\": [\"hats\", \"scarves\", \"belts\"]\n",
        "    }\n",
        "    category = random.choice(categories)\n",
        "    item = random.choice(items[category])\n",
        "    page = random.choice([\"details\", \"reviews\", \"photos\"])\n",
        "    return f\"/{category}/{item}/{page}\"\n",
        "\n",
        "# Function to generate random HTTP status codes\n",
        "def generate_status_code():\n",
        "    return random.choice([200, 301, 404, 500])\n",
        "\n",
        "# Function to generate a log line\n",
        "def generate_log_line():\n",
        "    ip = generate_ip()\n",
        "    timestamp = generate_timestamp(datetime.datetime(2023, 1, 1), datetime.datetime(2023, 12, 31)).strftime('%d/%b/%Y:%H:%M:%S')\n",
        "    method = generate_http_method()\n",
        "    url_path = generate_url_path()\n",
        "    protocol = \"HTTP/1.1\"\n",
        "    status_code = generate_status_code()\n",
        "    return f'{ip} - - [{timestamp}] \"{method} {url_path} {protocol}\" {status_code} -'\n",
        "\n",
        "# Generate 2000 log lines\n",
        "log_lines = [generate_log_line() for _ in range(2000)]\n",
        "\n",
        "# Create a DataFrame from log lines\n",
        "df_logs = pd.DataFrame(log_lines, columns=[\"log\"])\n",
        "\n",
        "# Save to a CSV file\n",
        "log_file_path = \"/mnt/data/www_111mtk111_com_log.csv\"\n",
        "df_logs.to_csv(log_file_path, index=False)\n",
        "\n",
        "# Show a portion of the dataframe to the user\n",
        "df_logs.head()\n"
      ]
    }
  ]
}